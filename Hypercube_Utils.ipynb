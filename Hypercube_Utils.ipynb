{
  "nbformat": 4,
  "nbformat_minor": 0,
  "metadata": {
    "colab": {
      "name": "Hypercube_Utils.ipynb",
      "provenance": [],
      "collapsed_sections": [],
      "authorship_tag": "ABX9TyNXcSCtQBoo5hpi6ooA053t",
      "include_colab_link": true
    },
    "kernelspec": {
      "name": "python3",
      "display_name": "Python 3"
    },
    "language_info": {
      "name": "python"
    }
  },
  "cells": [
    {
      "cell_type": "markdown",
      "metadata": {
        "id": "view-in-github",
        "colab_type": "text"
      },
      "source": [
        "<a href=\"https://colab.research.google.com/github/jjc16/Geometry_Tools/blob/main/Hypercube_Utils.ipynb\" target=\"_parent\"><img src=\"https://colab.research.google.com/assets/colab-badge.svg\" alt=\"Open In Colab\"/></a>"
      ]
    },
    {
      "cell_type": "markdown",
      "metadata": {
        "id": "0HcP1L89Zp6z"
      },
      "source": [
        ""
      ]
    },
    {
      "cell_type": "markdown",
      "metadata": {
        "id": "XCPE45_ic2Ui"
      },
      "source": [
        "# Hypercube Utilities\n",
        "\n",
        "This notebook contains a series of functions that build up to the final function: **find_all_hypercubes**. This function allows users to input a list of points and return a count of all hypercubes (of various side lengths) inscribed on the points. \n",
        "\n",
        "This notebook was inspired by problem that I saw on Youtube (can't find the link) to an interview question for one of the FAANG companies where the interviewee is asked to find the number of squares in grid of points. This question seemed boring and relatively simple (the only hard part was that it had to work after 45 minutes of effort), so I made the problem harder and put it into the notebook below. \n",
        "\n",
        "**Extensions:** the function will currently only return hypercubes of the same dimension as the input list of points. A good extension of this would be to have the function return all hypercubes of dimension $[2, ... n]$ where n is the dimension of the list. This would take some work (because you would essentially have to search through $(n \\space choose \\space k)$ subspaces (with $n$ the dimension of the main space and k the dimension of the subspace) for each $k$. But, it would be doable with some effort and for loops :-)\n",
        "\n",
        "Also, the function should have some error checking on the list of points and more test cases.\n",
        "\n"
      ]
    },
    {
      "cell_type": "code",
      "metadata": {
        "id": "UC6ZV2slegv7"
      },
      "source": [
        "def min_all_dims(list_):\n",
        "  out = []\n",
        "  for ii in range(len(list_[0])):\n",
        "    tmp = [pt[ii] for pt in list_]\n",
        "    t2 = max(tmp)\n",
        "    t1 = min(tmp)\n",
        "    out.append(t2 - t1)\n",
        "  return min(out)\n"
      ],
      "execution_count": 66,
      "outputs": []
    },
    {
      "cell_type": "code",
      "metadata": {
        "colab": {
          "base_uri": "https://localhost:8080/"
        },
        "id": "qAapkTq6_vU5",
        "outputId": "f5079340-f9c9-4b7c-93f4-43da01cc835e"
      },
      "source": [
        ""
      ],
      "execution_count": 68,
      "outputs": [
        {
          "output_type": "stream",
          "text": [
            "[[1, 1, 1], [1, 1, 2], [1, 2, 1], [1, 2, 2], [2, 1, 1], [2, 1, 2], [2, 2, 1], [2, 2, 2], [3, 1, 1], [3, 1, 2], [3, 2, 1], [3, 2, 2]]\n"
          ],
          "name": "stdout"
        },
        {
          "output_type": "execute_result",
          "data": {
            "text/plain": [
              "2"
            ]
          },
          "metadata": {
            "tags": []
          },
          "execution_count": 68
        }
      ]
    },
    {
      "cell_type": "code",
      "metadata": {
        "id": "3_4lNeHPhhvn"
      },
      "source": [
        "def find_coord(point1, point2):\n",
        "  for ii in range(len(point1)):\n",
        "    if point1[ii] != point2[ii]:\n",
        "      return ii\n",
        "  return []"
      ],
      "execution_count": 2,
      "outputs": []
    },
    {
      "cell_type": "code",
      "metadata": {
        "id": "E1ZJbZfNgojj"
      },
      "source": [
        "def gen_tst_pts(start, end, coord):\n",
        "    tst_pts=[]\n",
        "    for ii in range(start[coord], end[coord]+1):\n",
        "      tmp = start.copy()\n",
        "      tmp[coord] = ii\n",
        "      tst_pts.append(tmp)\n",
        "\n",
        "    return tst_pts"
      ],
      "execution_count": 3,
      "outputs": []
    },
    {
      "cell_type": "code",
      "metadata": {
        "id": "TyJYkLjzhE2M"
      },
      "source": [
        ""
      ],
      "execution_count": 3,
      "outputs": []
    },
    {
      "cell_type": "code",
      "metadata": {
        "id": "-FX8IbH6gxrH"
      },
      "source": [
        "def test_pts(list_, tst_pts):\n",
        "  return [pt in list_ for pt in tst_pts]"
      ],
      "execution_count": 4,
      "outputs": []
    },
    {
      "cell_type": "code",
      "metadata": {
        "id": "HBbJXZyIgzm7"
      },
      "source": [
        "def line_in_list(list_, start, end, coord):\n",
        "  tst_pts = gen_tst_pts(start, end, coord)\n",
        "  out = test_pts(list_, tst_pts)\n",
        "\n",
        "  return all(out)"
      ],
      "execution_count": 5,
      "outputs": []
    },
    {
      "cell_type": "code",
      "metadata": {
        "id": "zj4YL1uhhOXh"
      },
      "source": [
        "def hyper_cube_corners(start, length):\n",
        "  if len(start) == 1:\n",
        "    tmp = start.copy()\n",
        "    out = []\n",
        "    out.append(tmp)\n",
        "    tmp2 = list(map(lambda x:x+length, tmp))\n",
        "    out.append(tmp2) \n",
        "    return out\n",
        "  else:\n",
        "    tmp = hyper_cube_corners(start[:-1], length)\n",
        "    out = []\n",
        "    for item in tmp:\n",
        "      item1 = item.copy()\n",
        "      item1.append(start[-1])\n",
        "      item2 = item.copy()\n",
        "      tmp = start[-1] + length\n",
        "      item2.append(tmp)\n",
        "      out.append(item1)\n",
        "      out.append(item2)\n",
        "    return out\n",
        "      "
      ],
      "execution_count": 6,
      "outputs": []
    },
    {
      "cell_type": "code",
      "metadata": {
        "id": "u6o89VO8hOn4"
      },
      "source": [
        "def find_lines(corners):\n",
        "  lines = []\n",
        "  for ii in range(len(corners)):\n",
        "    for jj in range(ii, len(corners)):\n",
        "      tmp = [int(not(corners[ii][kk] == corners[jj][kk])) for kk in range(len(corners[ii]))]\n",
        "      # print(tmp)\n",
        "      if sum(tmp) == 1:\n",
        "        lines.append(tuple((corners[ii], corners[jj])))\n",
        "\n",
        "  return lines"
      ],
      "execution_count": 7,
      "outputs": []
    },
    {
      "cell_type": "code",
      "metadata": {
        "id": "5Y3zY17whZaX"
      },
      "source": [
        "def find_all_cube_one_size(list_, sz):\n",
        "  list_.sort()\n",
        "  count = 0\n",
        "  for l in list_:\n",
        "      corners = hyper_cube_corners(l, sz)\n",
        "      lines = find_lines(corners)\n",
        "      ln_lst = []\n",
        "      for ln in lines:\n",
        "      coord = find_coord(ln[0], ln[1])\n",
        "      pts = gen_tst_pts(ln[0], ln[1], coord)\n",
        "      tmp = test_pts(list_, pts)\n",
        "      tmp = all(tmp)\n",
        "      ln_lst.append(tmp)\n",
        "      if all(ln_lst):\n",
        "      count += 1\n",
        "\n",
        "  return count\n"
      ],
      "execution_count": 48,
      "outputs": []
    },
    {
      "cell_type": "code",
      "metadata": {
        "id": "fsAwZa78Ah2t"
      },
      "source": [
        "def find_all_hypercubes(list_):\n",
        "  count = 0\n",
        "  out_dict = {}\n",
        "  sz = min_all_dims(list_)\n",
        "  for ii in range(1,sz+1):\n",
        "    tmp = find_all_cube_one_size(list_, ii)\n",
        "    out_dict[ii] = tmp\n",
        "    count += tmp\n",
        "\n",
        "  return count, out_dict\n"
      ],
      "execution_count": 75,
      "outputs": []
    },
    {
      "cell_type": "code",
      "metadata": {
        "colab": {
          "base_uri": "https://localhost:8080/"
        },
        "id": "JPsRx72_6a5c",
        "outputId": "ad780881-4a19-4a45-da20-3f58f32c4fe4"
      },
      "source": [
        "list_ = [[1,1], [1,2], [1,3], [2,1], [2,2], [2,3], [3,1], [3,2], [3,3], [4,1], [4,2], [4,3], [5,1], [5,2], [5,3]]\n",
        "find_all_cube_one_size(list_, 1)\n",
        "find_all_hypercubes(list_)"
      ],
      "execution_count": 76,
      "outputs": [
        {
          "output_type": "execute_result",
          "data": {
            "text/plain": [
              "(11, {1: 8, 2: 3})"
            ]
          },
          "metadata": {
            "tags": []
          },
          "execution_count": 76
        }
      ]
    },
    {
      "cell_type": "code",
      "metadata": {
        "colab": {
          "base_uri": "https://localhost:8080/"
        },
        "id": "vrRcHmMY9tXD",
        "outputId": "aa10aaeb-ace6-4dcd-bf5e-be464a8a17fe"
      },
      "source": [
        "list2 = [[1,1,1], [1,1,2], [1,2,1], [1,2,2], [2,1,1], [2,1,2], [2,2,1], [2,2,2], [3,1,1], [3,1,2], [3,2,1], [3,2,2]]\n",
        "find_all_cube_one_size(list2, 1)\n",
        "find_all_cube_one_size(list2, 2)"
      ],
      "execution_count": 54,
      "outputs": [
        {
          "output_type": "execute_result",
          "data": {
            "text/plain": [
              "0"
            ]
          },
          "metadata": {
            "tags": []
          },
          "execution_count": 54
        }
      ]
    },
    {
      "cell_type": "code",
      "metadata": {
        "colab": {
          "base_uri": "https://localhost:8080/"
        },
        "id": "owXbi6Uz_J8i",
        "outputId": "7cbdd400-bcd9-4635-84b6-59e5d0f884a4"
      },
      "source": [
        "min_all_dims(list_)"
      ],
      "execution_count": 57,
      "outputs": [
        {
          "output_type": "execute_result",
          "data": {
            "text/plain": [
              "2"
            ]
          },
          "metadata": {
            "tags": []
          },
          "execution_count": 57
        }
      ]
    },
    {
      "cell_type": "code",
      "metadata": {
        "colab": {
          "base_uri": "https://localhost:8080/"
        },
        "id": "-2TrU84YtwET",
        "outputId": "9501f136-9840-44a6-e57e-560d63c40503"
      },
      "source": [
        "!pip install numpy\n",
        "!pip install sklearn\n",
        "!pip install scipy"
      ],
      "execution_count": null,
      "outputs": [
        {
          "output_type": "stream",
          "text": [
            "Requirement already satisfied: numpy in /usr/local/lib/python3.7/dist-packages (1.19.5)\n",
            "Requirement already satisfied: sklearn in /usr/local/lib/python3.7/dist-packages (0.0)\n",
            "Requirement already satisfied: scikit-learn in /usr/local/lib/python3.7/dist-packages (from sklearn) (0.22.2.post1)\n",
            "Requirement already satisfied: numpy>=1.11.0 in /usr/local/lib/python3.7/dist-packages (from scikit-learn->sklearn) (1.19.5)\n",
            "Requirement already satisfied: scipy>=0.17.0 in /usr/local/lib/python3.7/dist-packages (from scikit-learn->sklearn) (1.4.1)\n",
            "Requirement already satisfied: joblib>=0.11 in /usr/local/lib/python3.7/dist-packages (from scikit-learn->sklearn) (1.0.1)\n",
            "Requirement already satisfied: scipy in /usr/local/lib/python3.7/dist-packages (1.4.1)\n",
            "Requirement already satisfied: numpy>=1.13.3 in /usr/local/lib/python3.7/dist-packages (from scipy) (1.19.5)\n"
          ],
          "name": "stdout"
        }
      ]
    },
    {
      "cell_type": "code",
      "metadata": {
        "id": "KktBTLeKpd3p"
      },
      "source": [
        ""
      ],
      "execution_count": null,
      "outputs": []
    },
    {
      "cell_type": "code",
      "metadata": {
        "colab": {
          "base_uri": "https://localhost:8080/"
        },
        "id": "gefmIKKtr2Xn",
        "outputId": "61e413a0-ec50-4b67-f459-d0020d91e4c7"
      },
      "source": [
        "start0 = [1, 4, 5]\n",
        "end0 = [5, 4, 5]\n",
        "list0 = [[1,4,5], [2,4,5], [3,4,5], [4,4,5], [5,4,5]]\n",
        "list\n",
        "tst_lst = gen_tst_pts(start0, end0, 0)\n",
        "print(tst_lst)\n",
        "tst = test_pts(list0, tst_lst)\n",
        "print(tst)\n",
        "ln = line_in_list(list0, start0, end0, 0)\n",
        "print(ln)"
      ],
      "execution_count": null,
      "outputs": [
        {
          "output_type": "stream",
          "text": [
            "[[1, 4, 5], [2, 4, 5], [3, 4, 5], [4, 4, 5]]\n",
            "[True, True, True, True]\n",
            "True\n"
          ],
          "name": "stdout"
        }
      ]
    },
    {
      "cell_type": "code",
      "metadata": {
        "colab": {
          "base_uri": "https://localhost:8080/"
        },
        "id": "Fwzzy2POtnHe",
        "outputId": "e6d8cdd1-8e0f-4981-a120-d7e81bff38a9"
      },
      "source": [
        "from itertools import combinations\n",
        "\n",
        "def get_combos(dim, sub_dim):\n",
        "  lst = list(range(dim))\n",
        "  return list(combinations(lst, sub_dim))\n",
        "\n",
        "get_combos(3,2)"
      ],
      "execution_count": null,
      "outputs": [
        {
          "output_type": "execute_result",
          "data": {
            "text/plain": [
              "[(0, 1), (0, 2), (1, 2)]"
            ]
          },
          "metadata": {
            "tags": []
          },
          "execution_count": 14
        }
      ]
    },
    {
      "cell_type": "code",
      "metadata": {
        "id": "Kv5ZdYVa1Atr"
      },
      "source": [
        "def get_cube_corners(start, size):\n",
        "  corners = []\n",
        "    for \n"
      ],
      "execution_count": null,
      "outputs": []
    },
    {
      "cell_type": "code",
      "metadata": {
        "colab": {
          "base_uri": "https://localhost:8080/"
        },
        "id": "y5SkfAc8sf86",
        "outputId": "77459ba2-d41a-481e-85dc-97122f7ef0bd"
      },
      "source": [
        "def candidate_square(lst, sz, dim):\n",
        "  \n"
      ],
      "execution_count": null,
      "outputs": [
        {
          "output_type": "execute_result",
          "data": {
            "text/plain": [
              "[5, 4, 5]"
            ]
          },
          "metadata": {
            "tags": []
          },
          "execution_count": 17
        }
      ]
    },
    {
      "cell_type": "code",
      "metadata": {
        "id": "Vy0Tu9p0xYKa"
      },
      "source": [
        "dim1 = dim[0]\n",
        "dim2 = dim[1]"
      ],
      "execution_count": null,
      "outputs": []
    },
    {
      "cell_type": "code",
      "metadata": {
        "colab": {
          "base_uri": "https://localhost:8080/"
        },
        "id": "Jc3-bnZbsbw0",
        "outputId": "77e23608-ef3f-4732-dfd0-1b0e49e7b8e8"
      },
      "source": [
        "from itertools import product\n",
        "list(product([1,1,1], [3,3,3]))"
      ],
      "execution_count": null,
      "outputs": [
        {
          "output_type": "execute_result",
          "data": {
            "text/plain": [
              "[(1, 3), (1, 3), (1, 3), (1, 3), (1, 3), (1, 3), (1, 3), (1, 3), (1, 3)]"
            ]
          },
          "metadata": {
            "tags": []
          },
          "execution_count": 16
        }
      ]
    },
    {
      "cell_type": "code",
      "metadata": {
        "id": "c3_vuLU62oEL"
      },
      "source": [
        ""
      ],
      "execution_count": null,
      "outputs": []
    },
    {
      "cell_type": "code",
      "metadata": {
        "id": "sz48lEAFhAsI"
      },
      "source": [
        ""
      ],
      "execution_count": null,
      "outputs": []
    },
    {
      "cell_type": "code",
      "metadata": {
        "id": "fwTiblPmhCxM"
      },
      "source": [
        ""
      ],
      "execution_count": null,
      "outputs": []
    },
    {
      "cell_type": "code",
      "metadata": {
        "id": "PQKQCFPlQlGC"
      },
      "source": [
        "corners = hyper_cube_corners([1,2,3,4],2)"
      ],
      "execution_count": null,
      "outputs": []
    },
    {
      "cell_type": "code",
      "metadata": {
        "id": "lA8Zb4GWQq6Z"
      },
      "source": [
        "\n"
      ],
      "execution_count": null,
      "outputs": []
    },
    {
      "cell_type": "code",
      "metadata": {
        "id": "OgvdxOC3SWQb"
      },
      "source": [
        ""
      ],
      "execution_count": null,
      "outputs": []
    },
    {
      "cell_type": "code",
      "metadata": {
        "id": "U08gMn7IhXLK"
      },
      "source": [
        ""
      ],
      "execution_count": null,
      "outputs": []
    },
    {
      "cell_type": "code",
      "metadata": {
        "colab": {
          "base_uri": "https://localhost:8080/"
        },
        "id": "aKPNIz4DMeEf",
        "outputId": "90b03f7e-b6fd-40b6-a6ab-00f82825061d"
      },
      "source": [
        "cd = find_coord(lines[0][0], lines[0][1])\n",
        "pts = gen_tst_pts(lines[0][0], lines[0][1], cd)\n",
        "print(pts)\n",
        "list_ = [[1,2,3,4], [1,2,3,5], [1,2,3,6]]\n",
        "test_pts(list_, pts)"
      ],
      "execution_count": null,
      "outputs": [
        {
          "output_type": "stream",
          "text": [
            "[[1, 2, 3, 4], [1, 2, 3, 5], [1, 2, 3, 6]]\n"
          ],
          "name": "stdout"
        },
        {
          "output_type": "execute_result",
          "data": {
            "text/plain": [
              "[True, True, True]"
            ]
          },
          "metadata": {
            "tags": []
          },
          "execution_count": 39
        }
      ]
    },
    {
      "cell_type": "code",
      "metadata": {
        "id": "XLrLWoPpMgCJ"
      },
      "source": [
        "lines = []\n",
        "for ii in range(len(corners)):\n",
        "  for jj in range(ii, len(corners)):\n",
        "    tmp = [int(not(corners[ii][kk] == corners[jj][kk])) for kk in range(len(corners[ii]))]\n",
        "    # print(tmp)\n",
        "    if sum(tmp) == 1:\n",
        "      lines.append(tuple((corners[ii], corners[jj])))\n",
        "\n"
      ],
      "execution_count": null,
      "outputs": []
    },
    {
      "cell_type": "code",
      "metadata": {
        "id": "ilg5W9WMN6Ry"
      },
      "source": [
        "lines2 = [[1, 2, 3, 4], [1, 2, 3, 5], [1, 2, 3, 6], [1,1,1,1], [2,1,1,3], [1,1,7,1]]"
      ],
      "execution_count": null,
      "outputs": []
    },
    {
      "cell_type": "code",
      "metadata": {
        "id": "_HKR5Rm3OIL4"
      },
      "source": [
        "lines2.sort()\n"
      ],
      "execution_count": null,
      "outputs": []
    },
    {
      "cell_type": "code",
      "metadata": {
        "colab": {
          "base_uri": "https://localhost:8080/"
        },
        "id": "RBAyEO9hcThq",
        "outputId": "43305d9d-af06-4b42-ce5d-89974a1bea45"
      },
      "source": [
        "lines2"
      ],
      "execution_count": null,
      "outputs": [
        {
          "output_type": "execute_result",
          "data": {
            "text/plain": [
              "[[1, 1, 1, 1],\n",
              " [1, 1, 7, 1],\n",
              " [1, 2, 3, 4],\n",
              " [1, 2, 3, 5],\n",
              " [1, 2, 3, 6],\n",
              " [2, 1, 1, 3]]"
            ]
          },
          "metadata": {
            "tags": []
          },
          "execution_count": 12
        }
      ]
    },
    {
      "cell_type": "code",
      "metadata": {
        "id": "R5r02d3zcVoe"
      },
      "source": [
        ""
      ],
      "execution_count": null,
      "outputs": []
    },
    {
      "cell_type": "markdown",
      "metadata": {
        "id": "ZV9s65Xsc06m"
      },
      "source": [
        ""
      ]
    }
  ]
}