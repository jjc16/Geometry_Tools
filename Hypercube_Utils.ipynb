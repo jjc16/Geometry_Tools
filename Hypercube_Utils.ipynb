{
  "cells": [
    {
      "cell_type": "markdown",
      "metadata": {
        "colab_type": "text",
        "id": "view-in-github"
      },
      "source": [
        "<a href=\"https://colab.research.google.com/github/jjc16/Geometry_Tools/blob/main/Hypercube_Utils.ipynb\" target=\"_parent\"><img src=\"https://colab.research.google.com/assets/colab-badge.svg\" alt=\"Open In Colab\"/></a>"
      ]
    },
    {
      "cell_type": "markdown",
      "metadata": {
        "id": "0HcP1L89Zp6z"
      },
      "source": []
    },
    {
      "cell_type": "markdown",
      "metadata": {
        "id": "XCPE45_ic2Ui"
      },
      "source": [
        "# Hypercube Utilities\n",
        "\n",
        "This notebook contains a series of functions that build up to the final function: **find_all_hypercubes**. This function allows users to input a list of points and return a count of all hypercubes (of various side lengths) inscribed on the points. \n",
        "\n",
        "This notebook was inspired by problem that I saw on Youtube (can't find the link) to an interview question for one of the FAANG companies where the interviewee is asked to find the number of squares in grid of points. This question seemed boring and relatively simple (the only hard part was that it had to work after 45 minutes of effort), so I made the problem harder and put it into the notebook below. \n",
        "\n",
        "**Extensions:** the function will currently only return hypercubes of the same dimension as the input list of points. A good extension of this would be to have the function return all hypercubes of dimension $[2, ... n]$ where n is the dimension of the list. This would take some work (because you would essentially have to search through $(n \\space choose \\space k)$ subspaces (with $n$ the dimension of the main space and k the dimension of the subspace) for each $k$. But, it would be doable with some effort and for loops :-)\n",
        "\n",
        "Also, the function should have some error checking on the list of points and more test cases.\n",
        "\n"
      ]
    },
    {
      "cell_type": "markdown",
      "metadata": {
        "id": "UeXQ3KggldUV"
      },
      "source": [
        "## Helper functions\n",
        "\n",
        "See code on github for more details."
      ]
    },
    {
      "cell_type": "code",
      "execution_count": 5,
      "metadata": {},
      "outputs": [],
      "source": [
        "list2 = [[1,1,1], [1,1,2], [1,2,1], [1,2,2], [2,1,1], [2,1,2], [2,2,1], [2,2,2], [3,1,1], [3,1,2], [3,2,1], [3,2,2]]\n"
      ]
    },
    {
      "cell_type": "code",
      "execution_count": 2,
      "metadata": {
        "id": "UC6ZV2slegv7"
      },
      "outputs": [],
      "source": [
        "def min_all_dims(list_):\n",
        "  #Finds the minimum distance between points in all lists along all\n",
        "  #coordinate axis\n",
        "  #\n",
        "  #Example: [[1,1],[2,3]] is 1\n",
        "  # [[1,1], [4,5]] is 3\n",
        "  if not list_:\n",
        "    return None\n",
        "\n",
        "  out = []\n",
        "  for ii in range(len(list_[0])):\n",
        "    tmp = [pt[ii] for pt in list_]\n",
        "    t2 = max(tmp)\n",
        "    t1 = min(tmp)\n",
        "    out.append(t2 - t1)\n",
        "  return min(out)\n"
      ]
    },
    {
      "cell_type": "code",
      "execution_count": 10,
      "metadata": {},
      "outputs": [
        {
          "data": {
            "text/plain": [
              "2"
            ]
          },
          "execution_count": 10,
          "metadata": {},
          "output_type": "execute_result"
        }
      ],
      "source": [
        "min_all_dims(list2)\n",
        "min_all_dims([[1,1,1], [5,4,3]])"
      ]
    },
    {
      "cell_type": "code",
      "execution_count": null,
      "metadata": {
        "id": "3_4lNeHPhhvn"
      },
      "outputs": [],
      "source": [
        "def find_coord(point1, point2):\n",
        "  #Find the coordinate axis along which to search for \"lines\"\n",
        "  for ii in range(len(point1)):\n",
        "    if point1[ii] != point2[ii]:\n",
        "      return ii\n",
        "  return []"
      ]
    },
    {
      "cell_type": "code",
      "execution_count": null,
      "metadata": {
        "id": "E1ZJbZfNgojj"
      },
      "outputs": [],
      "source": [
        "def gen_tst_pts(start, end, coord):\n",
        "    #Figure out which points between each coordinate are actually in a line\n",
        "    #and which might be missing\n",
        "    tst_pts=[]\n",
        "    for ii in range(start[coord], end[coord]+1):\n",
        "      tmp = start.copy()\n",
        "      tmp[coord] = ii\n",
        "      tst_pts.append(tmp)\n",
        "\n",
        "    return tst_pts"
      ]
    },
    {
      "cell_type": "code",
      "execution_count": null,
      "metadata": {
        "id": "TyJYkLjzhE2M"
      },
      "outputs": [],
      "source": []
    },
    {
      "cell_type": "code",
      "execution_count": null,
      "metadata": {
        "id": "-FX8IbH6gxrH"
      },
      "outputs": [],
      "source": [
        "def test_pts(list_, tst_pts):\n",
        "  return [pt in list_ for pt in tst_pts]"
      ]
    },
    {
      "cell_type": "code",
      "execution_count": null,
      "metadata": {
        "id": "HBbJXZyIgzm7"
      },
      "outputs": [],
      "source": [
        "def line_in_list(list_, start, end, coord):\n",
        "  tst_pts = gen_tst_pts(start, end, coord)\n",
        "  out = test_pts(list_, tst_pts)\n",
        "\n",
        "  return all(out)"
      ]
    },
    {
      "cell_type": "code",
      "execution_count": null,
      "metadata": {
        "id": "zj4YL1uhhOXh"
      },
      "outputs": [],
      "source": [
        "def hyper_cube_corners(start, length):\n",
        "  if len(start) == 1:\n",
        "    tmp = start.copy()\n",
        "    out = []\n",
        "    out.append(tmp)\n",
        "    tmp2 = list(map(lambda x:x+length, tmp))\n",
        "    out.append(tmp2) \n",
        "    return out\n",
        "  else:\n",
        "    tmp = hyper_cube_corners(start[:-1], length)\n",
        "    out = []\n",
        "    for item in tmp:\n",
        "      item1 = item.copy()\n",
        "      item1.append(start[-1])\n",
        "      item2 = item.copy()\n",
        "      tmp = start[-1] + length\n",
        "      item2.append(tmp)\n",
        "      out.append(item1)\n",
        "      out.append(item2)\n",
        "    return out\n",
        "      "
      ]
    },
    {
      "cell_type": "code",
      "execution_count": null,
      "metadata": {
        "id": "u6o89VO8hOn4"
      },
      "outputs": [],
      "source": [
        "def find_lines(corners):\n",
        "  lines = []\n",
        "  for ii in range(len(corners)):\n",
        "    for jj in range(ii, len(corners)):\n",
        "      tmp = [int(not(corners[ii][kk] == corners[jj][kk])) for kk in range(len(corners[ii]))]\n",
        "      # print(tmp)\n",
        "      if sum(tmp) == 1:\n",
        "        lines.append(tuple((corners[ii], corners[jj])))\n",
        "\n",
        "  return lines"
      ]
    },
    {
      "cell_type": "code",
      "execution_count": null,
      "metadata": {
        "id": "5Y3zY17whZaX"
      },
      "outputs": [],
      "source": [
        "def find_all_cube_one_size(list_, sz):\n",
        "  list_.sort()\n",
        "  count = 0\n",
        "  for l in list_:\n",
        "      corners = hyper_cube_corners(l, sz)\n",
        "      lines = find_lines(corners)\n",
        "      ln_lst = []\n",
        "      for ln in lines:\n",
        "        coord = find_coord(ln[0], ln[1])\n",
        "        pts = gen_tst_pts(ln[0], ln[1], coord)\n",
        "        tmp = test_pts(list_, pts)\n",
        "        tmp = all(tmp)\n",
        "        ln_lst.append(tmp)\n",
        "      if all(ln_lst):\n",
        "        count += 1\n",
        "\n",
        "  return count\n"
      ]
    },
    {
      "cell_type": "markdown",
      "metadata": {
        "id": "pQp-R_fllV1k"
      },
      "source": [
        "## Main function"
      ]
    },
    {
      "cell_type": "code",
      "execution_count": null,
      "metadata": {
        "id": "fsAwZa78Ah2t"
      },
      "outputs": [],
      "source": [
        "def find_all_hypercubes(list_):\n",
        "  count = 0\n",
        "  out_dict = {}\n",
        "  sz = min_all_dims(list_)\n",
        "  for ii in range(1,sz+1):\n",
        "    tmp = find_all_cube_one_size(list_, ii)\n",
        "    out_dict[ii] = tmp\n",
        "    count += tmp\n",
        "\n",
        "  return count, out_dict\n"
      ]
    },
    {
      "cell_type": "markdown",
      "metadata": {
        "id": "v77KyUaPlZt2"
      },
      "source": [
        "## Test Cases"
      ]
    },
    {
      "cell_type": "code",
      "execution_count": null,
      "metadata": {
        "colab": {
          "base_uri": "https://localhost:8080/"
        },
        "id": "JPsRx72_6a5c",
        "outputId": "80bec258-575f-4b4f-85b6-c376fd9f5a2e"
      },
      "outputs": [
        {
          "data": {
            "text/plain": [
              "(11, {1: 8, 2: 3})"
            ]
          },
          "execution_count": 16,
          "metadata": {
            "tags": []
          },
          "output_type": "execute_result"
        }
      ],
      "source": [
        "list_ = [[1,1], [1,2], [1,3], [2,1], [2,2], [2,3], [3,1], [3,2], [3,3], [4,1], [4,2], [4,3], [5,1], [5,2], [5,3]]\n",
        "find_all_cube_one_size(list_, 1)\n",
        "find_all_hypercubes(list_)"
      ]
    },
    {
      "cell_type": "code",
      "execution_count": 4,
      "metadata": {
        "colab": {
          "base_uri": "https://localhost:8080/"
        },
        "id": "vrRcHmMY9tXD",
        "outputId": "e23605d1-a624-49c0-d932-a0994037cbdf"
      },
      "outputs": [],
      "source": [
        "list2 = [[1,1,1], [1,1,2], [1,2,1], [1,2,2], [2,1,1], [2,1,2], [2,2,1], [2,2,2], [3,1,1], [3,1,2], [3,2,1], [3,2,2]]\n",
        "# find_all_hypercubes(list2)\n"
      ]
    },
    {
      "cell_type": "markdown",
      "metadata": {
        "id": "WzVmXz-NnPLF"
      },
      "source": [
        "## Extensions\n",
        "\n",
        "This code can be extended to also find the cubic manifolds of lower dimension in the space. For example, in 5-dimensional space, we have cubic manifolds that are 2-d, 3-d, and 4-d.\n",
        "\n",
        "I will probably try to complete this project when I have sufficient time. One hint for doing this is the following partial algorithm:\n",
        "\n",
        "1. Generate the indices of a unit n-dimensional hypercube (where n is the maximal dimension in the space). \n",
        "\n",
        "2. Replace the zeros of each grid point that has at least two nonzero values and at least one zero value with an iteration through the span of values in the dimensions that have nonzero entries.\n",
        "\n",
        "3. Iterate through those values. **Hint**: use the hypercube indices to generate a lower dimensional projection of the hypercube (with the zero values representing the kernel) The hypercubes found will be $k$-dimensional cubic manifolds in the $n$-dimensional lattice hyperspace (where $k<n$)."
      ]
    },
    {
      "cell_type": "markdown",
      "metadata": {
        "id": "1CF8LGzaqIZ0"
      },
      "source": [
        "## Experimental Code"
      ]
    },
    {
      "cell_type": "code",
      "execution_count": 29,
      "metadata": {
        "id": "Pkrg8gOkms0b"
      },
      "outputs": [],
      "source": [
        "def generate_subspaces_list(vertices):\n",
        "  return [ver for ver in vertices if 0 in ver and sum(ver)>=2]\n"
      ]
    },
    {
      "cell_type": "code",
      "execution_count": 27,
      "metadata": {
        "colab": {
          "base_uri": "https://localhost:8080/"
        },
        "id": "IPkbO2xosTj6",
        "outputId": "d7fbd431-dd5c-4fbd-cce3-dd74ba494c80"
      },
      "outputs": [
        {
          "name": "stdout",
          "output_type": "stream",
          "text": [
            "[[0, 0, 0, 0], [0, 0, 0, 1], [0, 0, 1, 0], [0, 0, 1, 1], [0, 1, 0, 0], [0, 1, 0, 1], [0, 1, 1, 0], [0, 1, 1, 1], [1, 0, 0, 0], [1, 0, 0, 1], [1, 0, 1, 0], [1, 0, 1, 1], [1, 1, 0, 0], [1, 1, 0, 1], [1, 1, 1, 0], [1, 1, 1, 1]]\n",
            "[[0, 0, 1, 1], [0, 1, 0, 1], [0, 1, 1, 0], [0, 1, 1, 1], [1, 0, 0, 1], [1, 0, 1, 0], [1, 0, 1, 1], [1, 1, 0, 0], [1, 1, 0, 1], [1, 1, 1, 0]]\n"
          ]
        }
      ],
      "source": [
        "ind = hyper_cube_corners([0,0,0,0], 1)\n",
        "print(ind)\n",
        "print(generate_subspaces_list(ind))\n",
        "out = generate_subspaces_list(ind)"
      ]
    },
    {
      "cell_type": "code",
      "execution_count": 10,
      "metadata": {
        "id": "T3zJkZXgZRix"
      },
      "outputs": [],
      "source": [
        "def all_possible_combos_2(a, b):\n",
        "  pass \n",
        "  "
      ]
    },
    {
      "cell_type": "code",
      "execution_count": 38,
      "metadata": {
        "id": "PHDcDjVBbrh9"
      },
      "outputs": [],
      "source": [
        "def all_possible_combos(lst):\n",
        "  if len(lst)==0:\n",
        "    return []\n",
        "  elif len(lst)==1:\n",
        "    return(list)\n",
        "  elif len(lst)==2:\n",
        "    # print(lst)\n",
        "    out = [[ii,jj] for ii in lst[0] for jj in lst[1]]\n",
        "    # print(out)\n",
        "    return out\n",
        "  else:\n",
        "    tmp = all_possible_combos(lst[:-1])\n",
        "    # print(tmp)\n",
        "    # print(lst[-1])\n",
        "    out = [t+[l] for t in tmp for l in lst[-1]]\n",
        "    return out"
      ]
    },
    {
      "cell_type": "code",
      "execution_count": 44,
      "metadata": {
        "id": "bctggU6wekwZ"
      },
      "outputs": [],
      "source": [
        "a=[1,2,3]\n",
        "b=[4,5,6] \n",
        "c=[7,8,9]\n",
        "d = [1,1,2,1]\n",
        "tst = all_possible_combos([a,b,c,d])"
      ]
    },
    {
      "cell_type": "code",
      "execution_count": 7,
      "metadata": {
        "id": "JU7JkGEvtWhy"
      },
      "outputs": [],
      "source": [
        " xdef generate_subspace(list_, idx):\n",
        "  out = [[] for _ in range(len(list_))]\n",
        "  for ii in range(len(idx)):\n",
        "    if idx[ii]==0:\n",
        "      for jj in range(len(list_)):\n",
        "        out[jj].append(list_[jj][ii])\n",
        "\n",
        "  return out\n",
        "\n",
        "\n"
      ]
    },
    {
      "cell_type": "code",
      "execution_count": 9,
      "metadata": {
        "colab": {
          "base_uri": "https://localhost:8080/"
        },
        "id": "3_mgtjZGsiQM",
        "outputId": "7bac098c-5e92-4586-dc4d-dff36cd82c0b"
      },
      "outputs": [
        {
          "data": {
            "text/plain": [
              "[[1, 2], [1, 6], [1, 10]]"
            ]
          },
          "execution_count": 9,
          "metadata": {
            "tags": []
          },
          "output_type": "execute_result"
        }
      ],
      "source": [
        "list4 = [[1,2,3,4], [1,6,7,8], [1,10,11,12]]\n",
        "generate_subspace(list4, [0,0,1,1])"
      ]
    },
    {
      "cell_type": "code",
      "execution_count": 32,
      "metadata": {
        "id": "us7_29aCtQO4"
      },
      "outputs": [],
      "source": [
        "out = [[] for _ in range(4)]"
      ]
    },
    {
      "cell_type": "code",
      "execution_count": 33,
      "metadata": {
        "colab": {
          "base_uri": "https://localhost:8080/"
        },
        "id": "7p8WghqfuwaL",
        "outputId": "4e6153db-df52-4efc-f597-38341997d453"
      },
      "outputs": [
        {
          "data": {
            "text/plain": [
              "[[], [], [], []]"
            ]
          },
          "execution_count": 33,
          "metadata": {
            "tags": []
          },
          "output_type": "execute_result"
        }
      ],
      "source": [
        "out"
      ]
    },
    {
      "cell_type": "code",
      "execution_count": null,
      "metadata": {
        "id": "sSvwoWV1u8Li"
      },
      "outputs": [],
      "source": []
    }
  ],
  "metadata": {
    "colab": {
      "authorship_tag": "ABX9TyNkDMaUi1Pfhb0SxnDWBPki",
      "collapsed_sections": [],
      "include_colab_link": true,
      "name": "Hypercube_Utils.ipynb",
      "provenance": []
    },
    "kernelspec": {
      "display_name": "Python 3",
      "name": "python3"
    },
    "language_info": {
      "codemirror_mode": {
        "name": "ipython",
        "version": 3
      },
      "file_extension": ".py",
      "mimetype": "text/x-python",
      "name": "python",
      "nbconvert_exporter": "python",
      "pygments_lexer": "ipython3",
      "version": "3.10.6"
    }
  },
  "nbformat": 4,
  "nbformat_minor": 0
}
