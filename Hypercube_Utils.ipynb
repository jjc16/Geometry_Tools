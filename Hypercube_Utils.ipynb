{
  "nbformat": 4,
  "nbformat_minor": 0,
  "metadata": {
    "colab": {
      "name": "Hypercube_Utils.ipynb",
      "provenance": [],
      "collapsed_sections": [],
      "authorship_tag": "ABX9TyPvmOPflDlrS3moA4p2RS16",
      "include_colab_link": true
    },
    "kernelspec": {
      "name": "python3",
      "display_name": "Python 3"
    },
    "language_info": {
      "name": "python"
    }
  },
  "cells": [
    {
      "cell_type": "markdown",
      "metadata": {
        "id": "view-in-github",
        "colab_type": "text"
      },
      "source": [
        "<a href=\"https://colab.research.google.com/github/jjc16/Geometry_Tools/blob/main/Hypercube_Utils.ipynb\" target=\"_parent\"><img src=\"https://colab.research.google.com/assets/colab-badge.svg\" alt=\"Open In Colab\"/></a>"
      ]
    },
    {
      "cell_type": "markdown",
      "metadata": {
        "id": "0HcP1L89Zp6z"
      },
      "source": [
        ""
      ]
    },
    {
      "cell_type": "markdown",
      "metadata": {
        "id": "XCPE45_ic2Ui"
      },
      "source": [
        "# Hypercube Utilities\n",
        "\n",
        "This notebook contains a series of functions that build up to the final function: **find_all_hypercubes**. This function allows users to input a list of points and return a count of all hypercubes (of various side lengths) inscribed on the points. \n",
        "\n",
        "This notebook was inspired by problem that I saw on Youtube (can't find the link) to an interview question for one of the FAANG companies where the interviewee is asked to find the number of squares in grid of points. This question seemed boring and relatively simple (the only hard part was that it had to work after 45 minutes of effort), so I made the problem harder and put it into the notebook below. \n",
        "\n",
        "**Extensions:** the function will currently only return hypercubes of the same dimension as the input list of points. A good extension of this would be to have the function return all hypercubes of dimension $[2, ... n]$ where n is the dimension of the list. This would take some work (because you would essentially have to search through $(n \\space choose \\space k)$ subspaces (with $n$ the dimension of the main space and k the dimension of the subspace) for each $k$. But, it would be doable with some effort and for loops :-)\n",
        "\n",
        "Also, the function should have some error checking on the list of points and more test cases.\n",
        "\n"
      ]
    },
    {
      "cell_type": "markdown",
      "metadata": {
        "id": "UeXQ3KggldUV"
      },
      "source": [
        "## Helper functions -- see code on github for more details"
      ]
    },
    {
      "cell_type": "code",
      "metadata": {
        "id": "UC6ZV2slegv7"
      },
      "source": [
        "def min_all_dims(list_):\n",
        "  out = []\n",
        "  for ii in range(len(list_[0])):\n",
        "    tmp = [pt[ii] for pt in list_]\n",
        "    t2 = max(tmp)\n",
        "    t1 = min(tmp)\n",
        "    out.append(t2 - t1)\n",
        "  return min(out)\n"
      ],
      "execution_count": 1,
      "outputs": []
    },
    {
      "cell_type": "code",
      "metadata": {
        "id": "3_4lNeHPhhvn"
      },
      "source": [
        "def find_coord(point1, point2):\n",
        "  for ii in range(len(point1)):\n",
        "    if point1[ii] != point2[ii]:\n",
        "      return ii\n",
        "  return []"
      ],
      "execution_count": 2,
      "outputs": []
    },
    {
      "cell_type": "code",
      "metadata": {
        "id": "E1ZJbZfNgojj"
      },
      "source": [
        "def gen_tst_pts(start, end, coord):\n",
        "    tst_pts=[]\n",
        "    for ii in range(start[coord], end[coord]+1):\n",
        "      tmp = start.copy()\n",
        "      tmp[coord] = ii\n",
        "      tst_pts.append(tmp)\n",
        "\n",
        "    return tst_pts"
      ],
      "execution_count": 3,
      "outputs": []
    },
    {
      "cell_type": "code",
      "metadata": {
        "id": "TyJYkLjzhE2M"
      },
      "source": [
        ""
      ],
      "execution_count": 3,
      "outputs": []
    },
    {
      "cell_type": "code",
      "metadata": {
        "id": "-FX8IbH6gxrH"
      },
      "source": [
        "def test_pts(list_, tst_pts):\n",
        "  return [pt in list_ for pt in tst_pts]"
      ],
      "execution_count": 4,
      "outputs": []
    },
    {
      "cell_type": "code",
      "metadata": {
        "id": "HBbJXZyIgzm7"
      },
      "source": [
        "def line_in_list(list_, start, end, coord):\n",
        "  tst_pts = gen_tst_pts(start, end, coord)\n",
        "  out = test_pts(list_, tst_pts)\n",
        "\n",
        "  return all(out)"
      ],
      "execution_count": 5,
      "outputs": []
    },
    {
      "cell_type": "code",
      "metadata": {
        "id": "zj4YL1uhhOXh"
      },
      "source": [
        "def hyper_cube_corners(start, length):\n",
        "  if len(start) == 1:\n",
        "    tmp = start.copy()\n",
        "    out = []\n",
        "    out.append(tmp)\n",
        "    tmp2 = list(map(lambda x:x+length, tmp))\n",
        "    out.append(tmp2) \n",
        "    return out\n",
        "  else:\n",
        "    tmp = hyper_cube_corners(start[:-1], length)\n",
        "    out = []\n",
        "    for item in tmp:\n",
        "      item1 = item.copy()\n",
        "      item1.append(start[-1])\n",
        "      item2 = item.copy()\n",
        "      tmp = start[-1] + length\n",
        "      item2.append(tmp)\n",
        "      out.append(item1)\n",
        "      out.append(item2)\n",
        "    return out\n",
        "      "
      ],
      "execution_count": 6,
      "outputs": []
    },
    {
      "cell_type": "code",
      "metadata": {
        "id": "u6o89VO8hOn4"
      },
      "source": [
        "def find_lines(corners):\n",
        "  lines = []\n",
        "  for ii in range(len(corners)):\n",
        "    for jj in range(ii, len(corners)):\n",
        "      tmp = [int(not(corners[ii][kk] == corners[jj][kk])) for kk in range(len(corners[ii]))]\n",
        "      # print(tmp)\n",
        "      if sum(tmp) == 1:\n",
        "        lines.append(tuple((corners[ii], corners[jj])))\n",
        "\n",
        "  return lines"
      ],
      "execution_count": 7,
      "outputs": []
    },
    {
      "cell_type": "code",
      "metadata": {
        "id": "5Y3zY17whZaX"
      },
      "source": [
        "def find_all_cube_one_size(list_, sz):\n",
        "  list_.sort()\n",
        "  count = 0\n",
        "  for l in list_:\n",
        "      corners = hyper_cube_corners(l, sz)\n",
        "      lines = find_lines(corners)\n",
        "      ln_lst = []\n",
        "      for ln in lines:\n",
        "        coord = find_coord(ln[0], ln[1])\n",
        "        pts = gen_tst_pts(ln[0], ln[1], coord)\n",
        "        tmp = test_pts(list_, pts)\n",
        "        tmp = all(tmp)\n",
        "        ln_lst.append(tmp)\n",
        "      if all(ln_lst):\n",
        "        count += 1\n",
        "\n",
        "  return count\n"
      ],
      "execution_count": 14,
      "outputs": []
    },
    {
      "cell_type": "markdown",
      "metadata": {
        "id": "pQp-R_fllV1k"
      },
      "source": [
        "## Main function"
      ]
    },
    {
      "cell_type": "code",
      "metadata": {
        "id": "fsAwZa78Ah2t"
      },
      "source": [
        "def find_all_hypercubes(list_):\n",
        "  count = 0\n",
        "  out_dict = {}\n",
        "  sz = min_all_dims(list_)\n",
        "  for ii in range(1,sz+1):\n",
        "    tmp = find_all_cube_one_size(list_, ii)\n",
        "    out_dict[ii] = tmp\n",
        "    count += tmp\n",
        "\n",
        "  return count, out_dict\n"
      ],
      "execution_count": 17,
      "outputs": []
    },
    {
      "cell_type": "markdown",
      "metadata": {
        "id": "v77KyUaPlZt2"
      },
      "source": [
        "## Test Cases"
      ]
    },
    {
      "cell_type": "code",
      "metadata": {
        "colab": {
          "base_uri": "https://localhost:8080/"
        },
        "id": "JPsRx72_6a5c",
        "outputId": "80bec258-575f-4b4f-85b6-c376fd9f5a2e"
      },
      "source": [
        "list_ = [[1,1], [1,2], [1,3], [2,1], [2,2], [2,3], [3,1], [3,2], [3,3], [4,1], [4,2], [4,3], [5,1], [5,2], [5,3]]\n",
        "find_all_cube_one_size(list_, 1)\n",
        "find_all_hypercubes(list_)"
      ],
      "execution_count": 16,
      "outputs": [
        {
          "output_type": "execute_result",
          "data": {
            "text/plain": [
              "(11, {1: 8, 2: 3})"
            ]
          },
          "metadata": {
            "tags": []
          },
          "execution_count": 16
        }
      ]
    },
    {
      "cell_type": "code",
      "metadata": {
        "colab": {
          "base_uri": "https://localhost:8080/"
        },
        "id": "vrRcHmMY9tXD",
        "outputId": "e23605d1-a624-49c0-d932-a0994037cbdf"
      },
      "source": [
        "list2 = [[1,1,1], [1,1,2], [1,2,1], [1,2,2], [2,1,1], [2,1,2], [2,2,1], [2,2,2], [3,1,1], [3,1,2], [3,2,1], [3,2,2]]\n",
        "find_all_hypercubes(list2)\n"
      ],
      "execution_count": 19,
      "outputs": [
        {
          "output_type": "execute_result",
          "data": {
            "text/plain": [
              "(2, {1: 2})"
            ]
          },
          "metadata": {
            "tags": []
          },
          "execution_count": 19
        }
      ]
    },
    {
      "cell_type": "code",
      "metadata": {
        "id": "Pkrg8gOkms0b"
      },
      "source": [
        ""
      ],
      "execution_count": null,
      "outputs": []
    }
  ]
}